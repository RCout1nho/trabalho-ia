{
 "cells": [
  {
   "attachments": {},
   "cell_type": "markdown",
   "metadata": {},
   "source": [
    "# Trabalho final de inteligência artificial"
   ]
  },
  {
   "attachments": {},
   "cell_type": "markdown",
   "metadata": {},
   "source": [
    "### Alunos:\n",
    "- Gabriel de Oliveira Maciel\n",
    "- José Ricardo Sampaio Coutinho II\n",
    "- Juliana Pereira de Magalhães\n",
    "- Nasthya Baraúna Peixoto"
   ]
  },
  {
   "attachments": {},
   "cell_type": "markdown",
   "metadata": {},
   "source": [
    "## Questão 1"
   ]
  },
  {
   "attachments": {},
   "cell_type": "markdown",
   "metadata": {},
   "source": [
    "Importação de dependências"
   ]
  },
  {
   "cell_type": "code",
   "execution_count": 44,
   "metadata": {},
   "outputs": [],
   "source": [
    "import numpy as np\n",
    "from keras.models import Sequential\n",
    "from keras.layers import Dense\n",
    "import matplotlib.pyplot as plt"
   ]
  },
  {
   "attachments": {},
   "cell_type": "markdown",
   "metadata": {},
   "source": [
    "Declaração das classes (servirão como Enums)"
   ]
  },
  {
   "cell_type": "code",
   "execution_count": 45,
   "metadata": {},
   "outputs": [],
   "source": [
    "class FormatosVagao:\n",
    "    RETANGULO_FECHADO = 1\n",
    "    RETANGULO_ABERTO = 2\n",
    "    DUPLO_RETANGULO_ABERTO = 3\n",
    "    ELIPSE = 4\n",
    "    LOCOMOTIVA = 5\n",
    "    HEXAGONO = 6\n",
    "    TOPO_DENTADO = 7\n",
    "    TRAPEZIO_ABERTO = 8\n",
    "    TOPO_TRIANGULAR_FECHADO = 9\n",
    "\n",
    "class FormatosCarga:\n",
    "    Empty = 0\n",
    "    CIRCULO = 1\n",
    "    HEXAGONO = 2\n",
    "    RETANGULO = 3\n",
    "    TRIANGULO = 4\n",
    "    QUADRADO = 5\n",
    "    LOSANGO = 6\n",
    "    TRIANGULO_INVERTIDO = 7\n",
    "\n",
    "class Direcao:\n",
    "    LESTE = 1\n",
    "    OESTE = -1\n",
    "\n",
    "class Comprimento:\n",
    "    CURTO = 1\n",
    "    LONGO = 2"
   ]
  },
  {
   "attachments": {},
   "cell_type": "markdown",
   "metadata": {},
   "source": [
    "#### Implementação"
   ]
  },
  {
   "attachments": {},
   "cell_type": "markdown",
   "metadata": {},
   "source": [
    "Definindo casos de treinamento"
   ]
  },
  {
   "cell_type": "code",
   "execution_count": 48,
   "metadata": {},
   "outputs": [],
   "source": [
    "training_data = np.array([\n",
    "    # Para o Leste\n",
    "    [\n",
    "        [\n",
    "            [2, 1, Comprimento.CURTO, FormatosVagao.RETANGULO_ABERTO, FormatosCarga.CIRCULO],\n",
    "            [3, 1, Comprimento.LONGO, FormatosVagao.RETANGULO_ABERTO, FormatosCarga.HEXAGONO],\n",
    "            [2, 1, Comprimento.CURTO, FormatosVagao.TOPO_TRIANGULAR_FECHADO, FormatosCarga.TRIANGULO],\n",
    "            [2, 3, Comprimento.LONGO, FormatosVagao.RETANGULO_ABERTO, FormatosCarga.QUADRADO]\n",
    "        ],\n",
    "        [Direcao.LESTE]\n",
    "    ],\n",
    "    [\n",
    "        [\n",
    "            [2, 2, Comprimento.CURTO, FormatosVagao.RETANGULO_FECHADO, FormatosCarga.CIRCULO],\n",
    "            [2, 3, Comprimento.CURTO, FormatosVagao.TRAPEZIO_ABERTO, FormatosCarga.RETANGULO],\n",
    "            [2, 2, Comprimento.CURTO, FormatosVagao.RETANGULO_ABERTO, FormatosCarga.TRIANGULO],\n",
    "        ],\n",
    "        [Direcao.LESTE]\n",
    "    ],\n",
    "    [\n",
    "        [\n",
    "            [3, 1, Comprimento.LONGO, FormatosVagao.RETANGULO_FECHADO, FormatosCarga.TRIANGULO_INVERTIDO],\n",
    "            [2, 1, Comprimento.CURTO, FormatosVagao.HEXAGONO, FormatosCarga.TRIANGULO],\n",
    "            [2, 1, Comprimento.CURTO, FormatosVagao.RETANGULO_ABERTO, FormatosCarga.CIRCULO],\n",
    "        ],\n",
    "        [Direcao.LESTE]\n",
    "    ],\n",
    "    # [\n",
    "    #     [\n",
    "    #         [2, 1, Comprimento.LONGO, FormatosVagao.RETANGULO_ABERTO, FormatosCarga.RETANGULO],\n",
    "    #         [2, 1, Comprimento.CURTO, FormatosVagao.ELIPSE, FormatosCarga.LOSANGO],\n",
    "    #         [2, 1, Comprimento.CURTO, FormatosVagao.DUPLO_RETANGULO_ABERTO, FormatosCarga.CIRCULO],\n",
    "    #         [2, 1, Comprimento.CURTO, FormatosVagao.TRAPEZIO_ABERTO, FormatosCarga.TRIANGULO],\n",
    "    #     ],\n",
    "    #     [Direcao.LESTE]\n",
    "    # ],\n",
    "    # [\n",
    "    #     [\n",
    "    #         [2, 1, Comprimento.CURTO, FormatosVagao.RETANGULO_FECHADO, FormatosCarga.CIRCULO],\n",
    "    #         [3, 1, Comprimento.LONGO, FormatosVagao.RETANGULO_FECHADO, FormatosCarga.RETANGULO],\n",
    "    #         [2, 1, Comprimento.CURTO, FormatosVagao.DUPLO_RETANGULO_ABERTO, FormatosCarga.TRIANGULO],\n",
    "    #     ],\n",
    "    #     [Direcao.LESTE]\n",
    "    # ],\n",
    "    # Para o Oeste\n",
    "    [\n",
    "        [\n",
    "            [2, 1, Comprimento.CURTO, FormatosVagao.RETANGULO_ABERTO, FormatosCarga.TRIANGULO],\n",
    "            [2, 3, Comprimento.LONGO, FormatosVagao.RETANGULO_FECHADO, FormatosCarga.CIRCULO],\n",
    "        ],\n",
    "        [Direcao.OESTE]\n",
    "    ],\n",
    "    # [\n",
    "    #     [\n",
    "    #         [2, 1, Comprimento.LONGO, FormatosVagao.TOPO_DENTADO, FormatosCarga.Empty],\n",
    "    #         [2, 1, Comprimento.CURTO, FormatosVagao.RETANGULO_ABERTO, FormatosCarga.TRIANGULO],\n",
    "    #         [2, 1, Comprimento.CURTO, FormatosVagao.DUPLO_RETANGULO_ABERTO, FormatosCarga.CIRCULO],\n",
    "    #     ],\n",
    "    #     [Direcao.OESTE]\n",
    "    # ],\n",
    "    # [\n",
    "    #     [\n",
    "    #         [2, 1, Comprimento.CURTO, FormatosVagao.RETANGULO_ABERTO, FormatosCarga.CIRCULO],\n",
    "    #         [3, 1, Comprimento.LONGO, FormatosVagao.RETANGULO_FECHADO, FormatosCarga.RETANGULO],\n",
    "    #     ],\n",
    "    #     [Direcao.OESTE]\n",
    "    # ],\n",
    "    [\n",
    "        [\n",
    "            [2, 1, Comprimento.CURTO, FormatosVagao.TRAPEZIO_ABERTO, FormatosCarga.CIRCULO],\n",
    "            [2, 1, Comprimento.LONGO, FormatosVagao.RETANGULO_ABERTO, FormatosCarga.RETANGULO],\n",
    "            [3, 1, Comprimento.LONGO, FormatosVagao.DUPLO_RETANGULO_ABERTO, FormatosCarga.RETANGULO],\n",
    "            [2, 1, Comprimento.CURTO, FormatosVagao.TRAPEZIO_ABERTO, FormatosCarga.CIRCULO],\n",
    "        ],\n",
    "        [Direcao.OESTE]\n",
    "    ],\n",
    "    [\n",
    "        [\n",
    "            [2, 2, Comprimento.LONGO, FormatosVagao.RETANGULO_ABERTO, FormatosCarga.RETANGULO],\n",
    "            [2, 1, Comprimento.LONGO, FormatosVagao.RETANGULO_ABERTO, FormatosCarga.RETANGULO],\n",
    "        ],\n",
    "        [Direcao.OESTE]\n",
    "    ]\n",
    "], dtype=object)"
   ]
  },
  {
   "cell_type": "code",
   "execution_count": 49,
   "metadata": {},
   "outputs": [
    {
     "name": "stdout",
     "output_type": "stream",
     "text": [
      "1/1 [==============================] - 0s 143ms/step\n",
      "Experimento 1:\n",
      "Direção esperada -> 1\n",
      "Direção prevista -> [0.9824862]\n",
      "-----------------------\n",
      "1/1 [==============================] - 0s 163ms/step\n",
      "Experimento 2:\n",
      "Direção esperada -> 1\n",
      "Direção prevista -> [0.99950355]\n",
      "-----------------------\n",
      "1/1 [==============================] - 0s 138ms/step\n",
      "Experimento 3:\n",
      "Direção esperada -> 1\n",
      "Direção prevista -> [1.]\n",
      "-----------------------\n",
      "1/1 [==============================] - 0s 158ms/step\n",
      "Experimento 4:\n",
      "Direção esperada -> -1\n",
      "Direção prevista -> [-0.9910621]\n",
      "-----------------------\n",
      "1/1 [==============================] - 0s 162ms/step\n",
      "Experimento 5:\n",
      "Direção esperada -> -1\n",
      "Direção prevista -> [-0.9994518]\n",
      "-----------------------\n",
      "1/1 [==============================] - 0s 141ms/step\n",
      "Experimento 6:\n",
      "Direção esperada -> -1\n",
      "Direção prevista -> [-0.99999267]\n",
      "-----------------------\n",
      "Relatório de Eficácia:\n",
      "Total de experimentos -> 6\n",
      "Total de previsões corretas -> 6\n",
      "Acurácia: 100.0%\n"
     ]
    }
   ],
   "source": [
    "model = Sequential()\n",
    "model.add(Dense(20, input_shape=(None, 5), activation='relu'))  # Correção na dimensão do input_shape\n",
    "model.add(Dense(10, activation='relu'))\n",
    "model.add(Dense(1, activation='tanh'))\n",
    "\n",
    "num_experiments = len(training_data)\n",
    "accuracies = []\n",
    "\n",
    "for i in range(num_experiments):\n",
    "    train_data = training_data[i]\n",
    "    X_train = np.array([train_data[0]])\n",
    "    y_train = np.array([train_data[1]])\n",
    "\n",
    "    model.compile(optimizer='adam', loss='mean_squared_error')\n",
    "    model.fit(X_train, y_train, epochs=1000, verbose=0)\n",
    "\n",
    "    test_data = training_data[i]\n",
    "    X_test = np.array([test_data[0]])\n",
    "    y_test = np.array([test_data[1]])\n",
    "    prediction = model.predict(X_test)\n",
    "\n",
    "    accuracy = 1 if (prediction[0][0] > 0 and y_test[0][0] > 0) or (prediction[0][0] < 0 and y_test[0][0] < 0) else 0\n",
    "    accuracies.append(accuracy)\n",
    "\n",
    "    print(f\"Experimento {i + 1}:\")\n",
    "    print(f\"Direção esperada -> {y_test[0][0]}\")\n",
    "    print(f\"Direção prevista -> {prediction[0][0]}\")\n",
    "    print(\"-----------------------\")\n",
    "\n",
    "total_experiments = len(accuracies)\n",
    "correct_predictions = sum(accuracies)\n",
    "accuracy_percentage = (correct_predictions / total_experiments) * 100\n",
    "\n",
    "print(\"Relatório de Eficácia:\")\n",
    "print(f\"Total de experimentos -> {total_experiments}\")\n",
    "print(f\"Total de previsões corretas -> {correct_predictions}\")\n",
    "print(f\"Acurácia: {accuracy_percentage}%\")"
   ]
  }
 ],
 "metadata": {
  "kernelspec": {
   "display_name": "Python 3",
   "language": "python",
   "name": "python3"
  },
  "language_info": {
   "codemirror_mode": {
    "name": "ipython",
    "version": 3
   },
   "file_extension": ".py",
   "mimetype": "text/x-python",
   "name": "python",
   "nbconvert_exporter": "python",
   "pygments_lexer": "ipython3",
   "version": "3.8.10"
  },
  "orig_nbformat": 4
 },
 "nbformat": 4,
 "nbformat_minor": 2
}
